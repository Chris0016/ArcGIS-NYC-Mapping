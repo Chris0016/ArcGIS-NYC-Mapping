{
 "cells": [
  {
   "cell_type": "code",
   "execution_count": 6,
   "metadata": {},
   "outputs": [],
   "source": [
    "import pandas as pd\n",
    "import numpy as np\n",
    " "
   ]
  },
  {
   "cell_type": "code",
   "execution_count": 7,
   "metadata": {},
   "outputs": [
    {
     "name": "stdout",
     "output_type": "stream",
     "text": [
      "   SERIALNO  SPORDER  PWGTP  WGTP  AGEP  CIT  REL  SCH  SCHG  SCHL  ...  \\\n",
      "0         1        1     95    95    31    1    0    1     0  22.0  ...   \n",
      "1        16        1    181   181    63    1    0    1     0  22.0  ...   \n",
      "2        16        2    210   181    65    1    1    1     0  19.0  ...   \n",
      "3        47        1     62    62    68    4    0    1     0   1.0  ...   \n",
      "4        47        2     71    62    63    4    1    1     0   1.0  ...   \n",
      "\n",
      "   Povunit_ID  Povunit_Rel  PreTaxIncome_PU  RETP_adj  RNTP_adj  SEMP_adj  \\\n",
      "0           1            1        127650.22       0.0       0.0       0.0   \n",
      "1           1            1        346479.19       0.0       0.0       0.0   \n",
      "2           1            2        346479.19       0.0       0.0       0.0   \n",
      "3           1            1        155003.84       0.0       0.0       0.0   \n",
      "4           1            2        155003.84       0.0       0.0       0.0   \n",
      "\n",
      "   SSIP_adj    SSP_adj  TotalWorkHrs_PU    WAGP_adj  \n",
      "0       0.0      0.000                2  127650.220  \n",
      "1       0.0      0.000                2  182357.450  \n",
      "2       0.0  12157.164                2       0.000  \n",
      "3       0.0  27353.619                1   91178.727  \n",
      "4       0.0      0.000                1   36471.492  \n",
      "\n",
      "[5 rows x 61 columns]\n"
     ]
    }
   ],
   "source": [
    "\n",
    "df = pd.read_csv('data/NYCgov Poverty Measure Data/NYCgov_Poverty_Measure_Data__2018_.csv')\n",
    "\n",
    "print(df.head()) "
   ]
  },
  {
   "cell_type": "code",
   "execution_count": null,
   "metadata": {},
   "outputs": [],
   "source": []
  }
 ],
 "metadata": {
  "kernelspec": {
   "display_name": "Python 3",
   "language": "python",
   "name": "python3"
  },
  "language_info": {
   "codemirror_mode": {
    "name": "ipython",
    "version": 3
   },
   "file_extension": ".py",
   "mimetype": "text/x-python",
   "name": "python",
   "nbconvert_exporter": "python",
   "pygments_lexer": "ipython3",
   "version": "3.8.5"
  }
 },
 "nbformat": 4,
 "nbformat_minor": 4
}
